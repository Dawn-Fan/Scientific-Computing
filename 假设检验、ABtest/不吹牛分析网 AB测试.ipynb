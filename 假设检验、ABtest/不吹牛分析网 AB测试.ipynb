{
 "cells": [
  {
   "cell_type": "code",
   "execution_count": 1,
   "metadata": {},
   "outputs": [],
   "source": [
    "import pandas as pd\n",
    "import numpy as np\n",
    "import matplotlib.pyplot as plt\n",
    "import seaborn as sns\n",
    "plt.rc('font', **{'family': 'Microsoft YaHei, SimHei'})  # 设置中文字体的支持\n",
    "# 提高输出效率库\n",
    "from IPython.core.interactiveshell import InteractiveShell # 实现 notebook 的多行输出\n",
    "InteractiveShell.ast_node_interactivity = 'all' #默认为'last'\n"
   ]
  },
  {
   "cell_type": "code",
   "execution_count": 4,
   "metadata": {},
   "outputs": [
    {
     "name": "stdout",
     "output_type": "stream",
     "text": [
      "<class 'pandas.core.frame.DataFrame'>\n",
      "RangeIndex: 4049 entries, 0 to 4048\n",
      "Data columns (total 5 columns):\n",
      " #   Column     Non-Null Count  Dtype  \n",
      "---  ------     --------------  -----  \n",
      " 0   timestamp  4049 non-null   object \n",
      " 1   id         4049 non-null   int64  \n",
      " 2   group      4049 non-null   object \n",
      " 3   action     4049 non-null   object \n",
      " 4   duration   4049 non-null   float64\n",
      "dtypes: float64(1), int64(1), object(3)\n",
      "memory usage: 158.3+ KB\n"
     ]
    },
    {
     "data": {
      "text/html": [
       "<div>\n",
       "<style scoped>\n",
       "    .dataframe tbody tr th:only-of-type {\n",
       "        vertical-align: middle;\n",
       "    }\n",
       "\n",
       "    .dataframe tbody tr th {\n",
       "        vertical-align: top;\n",
       "    }\n",
       "\n",
       "    .dataframe thead th {\n",
       "        text-align: right;\n",
       "    }\n",
       "</style>\n",
       "<table border=\"1\" class=\"dataframe\">\n",
       "  <thead>\n",
       "    <tr style=\"text-align: right;\">\n",
       "      <th></th>\n",
       "      <th>timestamp</th>\n",
       "      <th>id</th>\n",
       "      <th>group</th>\n",
       "      <th>action</th>\n",
       "      <th>duration</th>\n",
       "    </tr>\n",
       "  </thead>\n",
       "  <tbody>\n",
       "    <tr>\n",
       "      <th>593</th>\n",
       "      <td>2016-10-10 06:16:03.358129</td>\n",
       "      <td>603419</td>\n",
       "      <td>experiment</td>\n",
       "      <td>view</td>\n",
       "      <td>186.209675</td>\n",
       "    </tr>\n",
       "    <tr>\n",
       "      <th>1892</th>\n",
       "      <td>2016-11-18 12:00:41.858578</td>\n",
       "      <td>509225</td>\n",
       "      <td>experiment</td>\n",
       "      <td>view</td>\n",
       "      <td>180.209796</td>\n",
       "    </tr>\n",
       "    <tr>\n",
       "      <th>2198</th>\n",
       "      <td>2016-11-28 10:49:00.492320</td>\n",
       "      <td>670680</td>\n",
       "      <td>control</td>\n",
       "      <td>view</td>\n",
       "      <td>179.758267</td>\n",
       "    </tr>\n",
       "    <tr>\n",
       "      <th>514</th>\n",
       "      <td>2016-10-08 07:37:00.964610</td>\n",
       "      <td>418638</td>\n",
       "      <td>control</td>\n",
       "      <td>view</td>\n",
       "      <td>99.720775</td>\n",
       "    </tr>\n",
       "    <tr>\n",
       "      <th>2302</th>\n",
       "      <td>2016-12-01 05:09:30.768343</td>\n",
       "      <td>749962</td>\n",
       "      <td>experiment</td>\n",
       "      <td>view</td>\n",
       "      <td>149.433235</td>\n",
       "    </tr>\n",
       "  </tbody>\n",
       "</table>\n",
       "</div>"
      ],
      "text/plain": [
       "                       timestamp      id       group action    duration\n",
       "593   2016-10-10 06:16:03.358129  603419  experiment   view  186.209675\n",
       "1892  2016-11-18 12:00:41.858578  509225  experiment   view  180.209796\n",
       "2198  2016-11-28 10:49:00.492320  670680     control   view  179.758267\n",
       "514   2016-10-08 07:37:00.964610  418638     control   view   99.720775\n",
       "2302  2016-12-01 05:09:30.768343  749962  experiment   view  149.433235"
      ]
     },
     "execution_count": 4,
     "metadata": {},
     "output_type": "execute_result"
    }
   ],
   "source": [
    "course = pd.read_csv('./2020.8.23 电商网站 AB 测试/course_page_actions.csv')\n",
    "course.info(); course.sample(5)"
   ]
  },
  {
   "cell_type": "code",
   "execution_count": null,
   "metadata": {},
   "outputs": [],
   "source": [
    "    control_enroll_num = course[\"\"]"
   ]
  }
 ],
 "metadata": {
  "interpreter": {
   "hash": "c6260718c24c36f2808d656f45d121237624d3562ddba91b09c7600ac3f52d26"
  },
  "kernelspec": {
   "display_name": "Python 3.9.5 ('base')",
   "language": "python",
   "name": "python3"
  },
  "language_info": {
   "codemirror_mode": {
    "name": "ipython",
    "version": 3
   },
   "file_extension": ".py",
   "mimetype": "text/x-python",
   "name": "python",
   "nbconvert_exporter": "python",
   "pygments_lexer": "ipython3",
   "version": "3.9.5"
  },
  "orig_nbformat": 4
 },
 "nbformat": 4,
 "nbformat_minor": 2
}
