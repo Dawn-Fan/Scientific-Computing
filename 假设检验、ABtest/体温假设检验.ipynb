{
 "cells": [
  {
   "cell_type": "code",
   "execution_count": 13,
   "metadata": {},
   "outputs": [],
   "source": [
    "import pandas as pd\n",
    "import pylab\n",
    "import math\n",
    "import numpy as np\n",
    "import matplotlib.pyplot as plt\n",
    "%matplotlib inline\n",
    "import numpy as np\n",
    "from scipy.stats import norm\n",
    "import scipy.stats\n",
    "import warnings\n",
    "warnings.filterwarnings(\"ignore\")\n",
    " \n"
   ]
  },
  {
   "cell_type": "code",
   "execution_count": 11,
   "metadata": {},
   "outputs": [
    {
     "data": {
      "text/html": [
       "<div>\n",
       "<style scoped>\n",
       "    .dataframe tbody tr th:only-of-type {\n",
       "        vertical-align: middle;\n",
       "    }\n",
       "\n",
       "    .dataframe tbody tr th {\n",
       "        vertical-align: top;\n",
       "    }\n",
       "\n",
       "    .dataframe thead th {\n",
       "        text-align: right;\n",
       "    }\n",
       "</style>\n",
       "<table border=\"1\" class=\"dataframe\">\n",
       "  <thead>\n",
       "    <tr style=\"text-align: right;\">\n",
       "      <th></th>\n",
       "      <th>Temperature</th>\n",
       "      <th>Gender</th>\n",
       "      <th>Heart Rate</th>\n",
       "    </tr>\n",
       "  </thead>\n",
       "  <tbody>\n",
       "    <tr>\n",
       "      <th>0</th>\n",
       "      <td>96.3</td>\n",
       "      <td>1</td>\n",
       "      <td>70</td>\n",
       "    </tr>\n",
       "    <tr>\n",
       "      <th>1</th>\n",
       "      <td>96.7</td>\n",
       "      <td>1</td>\n",
       "      <td>71</td>\n",
       "    </tr>\n",
       "    <tr>\n",
       "      <th>2</th>\n",
       "      <td>96.9</td>\n",
       "      <td>1</td>\n",
       "      <td>74</td>\n",
       "    </tr>\n",
       "    <tr>\n",
       "      <th>3</th>\n",
       "      <td>97.0</td>\n",
       "      <td>1</td>\n",
       "      <td>80</td>\n",
       "    </tr>\n",
       "    <tr>\n",
       "      <th>4</th>\n",
       "      <td>97.1</td>\n",
       "      <td>1</td>\n",
       "      <td>73</td>\n",
       "    </tr>\n",
       "    <tr>\n",
       "      <th>...</th>\n",
       "      <td>...</td>\n",
       "      <td>...</td>\n",
       "      <td>...</td>\n",
       "    </tr>\n",
       "    <tr>\n",
       "      <th>125</th>\n",
       "      <td>99.3</td>\n",
       "      <td>2</td>\n",
       "      <td>68</td>\n",
       "    </tr>\n",
       "    <tr>\n",
       "      <th>126</th>\n",
       "      <td>99.4</td>\n",
       "      <td>2</td>\n",
       "      <td>77</td>\n",
       "    </tr>\n",
       "    <tr>\n",
       "      <th>127</th>\n",
       "      <td>99.9</td>\n",
       "      <td>2</td>\n",
       "      <td>79</td>\n",
       "    </tr>\n",
       "    <tr>\n",
       "      <th>128</th>\n",
       "      <td>100.0</td>\n",
       "      <td>2</td>\n",
       "      <td>78</td>\n",
       "    </tr>\n",
       "    <tr>\n",
       "      <th>129</th>\n",
       "      <td>100.8</td>\n",
       "      <td>2</td>\n",
       "      <td>77</td>\n",
       "    </tr>\n",
       "  </tbody>\n",
       "</table>\n",
       "<p>130 rows × 3 columns</p>\n",
       "</div>"
      ],
      "text/plain": [
       "     Temperature  Gender  Heart Rate\n",
       "0           96.3       1          70\n",
       "1           96.7       1          71\n",
       "2           96.9       1          74\n",
       "3           97.0       1          80\n",
       "4           97.1       1          73\n",
       "..           ...     ...         ...\n",
       "125         99.3       2          68\n",
       "126         99.4       2          77\n",
       "127         99.9       2          79\n",
       "128        100.0       2          78\n",
       "129        100.8       2          77\n",
       "\n",
       "[130 rows x 3 columns]"
      ]
     },
     "execution_count": 11,
     "metadata": {},
     "output_type": "execute_result"
    }
   ],
   "source": [
    "df = pd.read_csv('./normtemp.dat.txt',sep='   ',names = ['Temperature','Gender','Heart Rate'])\n",
    "df"
   ]
  },
  {
   "cell_type": "code",
   "execution_count": 10,
   "metadata": {},
   "outputs": [
    {
     "data": {
      "text/html": [
       "<div>\n",
       "<style scoped>\n",
       "    .dataframe tbody tr th:only-of-type {\n",
       "        vertical-align: middle;\n",
       "    }\n",
       "\n",
       "    .dataframe tbody tr th {\n",
       "        vertical-align: top;\n",
       "    }\n",
       "\n",
       "    .dataframe thead th {\n",
       "        text-align: right;\n",
       "    }\n",
       "</style>\n",
       "<table border=\"1\" class=\"dataframe\">\n",
       "  <thead>\n",
       "    <tr style=\"text-align: right;\">\n",
       "      <th></th>\n",
       "      <th>Temperature</th>\n",
       "      <th>Gender</th>\n",
       "      <th>Heart Rate</th>\n",
       "    </tr>\n",
       "  </thead>\n",
       "  <tbody>\n",
       "    <tr>\n",
       "      <th>count</th>\n",
       "      <td>130.000000</td>\n",
       "      <td>130.000000</td>\n",
       "      <td>130.000000</td>\n",
       "    </tr>\n",
       "    <tr>\n",
       "      <th>mean</th>\n",
       "      <td>98.249231</td>\n",
       "      <td>1.500000</td>\n",
       "      <td>73.761538</td>\n",
       "    </tr>\n",
       "    <tr>\n",
       "      <th>std</th>\n",
       "      <td>0.733183</td>\n",
       "      <td>0.501934</td>\n",
       "      <td>7.062077</td>\n",
       "    </tr>\n",
       "    <tr>\n",
       "      <th>min</th>\n",
       "      <td>96.300000</td>\n",
       "      <td>1.000000</td>\n",
       "      <td>57.000000</td>\n",
       "    </tr>\n",
       "    <tr>\n",
       "      <th>25%</th>\n",
       "      <td>97.800000</td>\n",
       "      <td>1.000000</td>\n",
       "      <td>69.000000</td>\n",
       "    </tr>\n",
       "    <tr>\n",
       "      <th>50%</th>\n",
       "      <td>98.300000</td>\n",
       "      <td>1.500000</td>\n",
       "      <td>74.000000</td>\n",
       "    </tr>\n",
       "    <tr>\n",
       "      <th>75%</th>\n",
       "      <td>98.700000</td>\n",
       "      <td>2.000000</td>\n",
       "      <td>79.000000</td>\n",
       "    </tr>\n",
       "    <tr>\n",
       "      <th>max</th>\n",
       "      <td>100.800000</td>\n",
       "      <td>2.000000</td>\n",
       "      <td>89.000000</td>\n",
       "    </tr>\n",
       "  </tbody>\n",
       "</table>\n",
       "</div>"
      ],
      "text/plain": [
       "       Temperature      Gender  Heart Rate\n",
       "count   130.000000  130.000000  130.000000\n",
       "mean     98.249231    1.500000   73.761538\n",
       "std       0.733183    0.501934    7.062077\n",
       "min      96.300000    1.000000   57.000000\n",
       "25%      97.800000    1.000000   69.000000\n",
       "50%      98.300000    1.500000   74.000000\n",
       "75%      98.700000    2.000000   79.000000\n",
       "max     100.800000    2.000000   89.000000"
      ]
     },
     "execution_count": 10,
     "metadata": {},
     "output_type": "execute_result"
    }
   ],
   "source": [
    "df.describe()"
   ]
  },
  {
   "cell_type": "code",
   "execution_count": 17,
   "metadata": {},
   "outputs": [
    {
     "data": {
      "image/png": "[encoded data removed]",
      "text/plain": [
       "<Figure size 432x288 with 1 Axes>"
      ]
     },
     "metadata": {
      "needs_background": "light"
     },
     "output_type": "display_data"
    },
    {
     "name": "stdout",
     "output_type": "stream",
     "text": [
      "Average (Mu): 98.24923076923076 / Standard Deviation: 0.7303577789050376\n"
     ]
    }
   ],
   "source": [
    "observed_temperatures = df['Temperature'].sort_values()#将参数导入\n",
    "#按从小到大的顺序进行\n",
    "bin_val = np.arange(start= observed_temperatures.min(), stop= observed_temperatures.max(), step = .05)  # 创建一个等差数列\n",
    "mu, std = np.mean(observed_temperatures), np.std(observed_temperatures)#均值和方差\n",
    " \n",
    " \n",
    "p = norm.pdf(observed_temperatures, mu, std)#画出pdf\n",
    " \n",
    " \n",
    "plt.hist(observed_temperatures,bins = bin_val, density=True, stacked=True)#直方图\n",
    "plt.plot(observed_temperatures, p, color = 'red')\n",
    "\n",
    "plt.xticks(np.arange(95.75,101.25,0.25),rotation=90)  #x轴刻度\n",
    "plt.xlabel('Human Body Temperature Distributions')\n",
    "plt.xlabel('human body temperature')\n",
    "plt.show()\n",
    " \n",
    " \n",
    "print('Average (Mu): '+ str(mu) + ' / ' 'Standard Deviation: '+str(std))"
   ]
  },
  {
   "cell_type": "code",
   "execution_count": 21,
   "metadata": {},
   "outputs": [
    {
     "name": "stdout",
     "output_type": "stream",
     "text": [
      "Shapiro-Wilk Stat: 0.9865770936012268  Shapiro-Wilk p-Value: 0.233174666762352\n",
      "********************\n",
      "normaltest\n",
      "k2 2.703801433319236 p: 0.2587479863488212\n"
     ]
    },
    {
     "data": {
      "image/png": "[encoded data removed]",
      "text/plain": [
       "<Figure size 432x288 with 1 Axes>"
      ]
     },
     "metadata": {
      "needs_background": "light"
     },
     "output_type": "display_data"
    }
   ],
   "source": [
    "x = observed_temperatures\n",
    " \n",
    "#Shapiro-Wilk Test: https://en.wikipedia.org/wiki/Shapiro%E2%80%93Wilk_test\n",
    "shapiro_test, shapiro_p = scipy.stats.shapiro(x)   # 夏皮罗-威尔克检验（Shapiro–Wilk test）,该检验的零检验是样本来自于一个正态分布的母体。\n",
    "\n",
    "\n",
    "print(\"Shapiro-Wilk Stat:\",shapiro_test, \" Shapiro-Wilk p-Value:\", shapiro_p)\n",
    "print(\"**\"*10)\n",
    "\n",
    "\n",
    "print(\"normaltest\")\n",
    "k2, p = scipy.stats.normaltest(observed_temperatures)\n",
    "print(\"k2\",k2,'p:',p)\n",
    " \n",
    " \n",
    "#Another method to determining normality is through Quantile-Quantile Plots.\n",
    "scipy.stats.probplot(observed_temperatures, dist=\"norm\", plot=pylab)\n",
    "pylab.show()\n",
    " "
   ]
  },
  {
   "cell_type": "code",
   "execution_count": 22,
   "metadata": {},
   "outputs": [
    {
     "name": "stdout",
     "output_type": "stream",
     "text": [
      "Mean temperature:  98.24923076923076 with standard deviation of +/- 0.730357778905038\n"
     ]
    },
    {
     "data": {
      "text/plain": [
       "<matplotlib.legend.Legend at 0x22e50cf0c10>"
      ]
     },
     "execution_count": 22,
     "metadata": {},
     "output_type": "execute_result"
    },
    {
     "data": {
      "image/png": "[encoded data removed]",
      "text/plain": [
       "<Figure size 576x360 with 1 Axes>"
      ]
     },
     "metadata": {
      "needs_background": "light"
     },
     "output_type": "display_data"
    }
   ],
   "source": [
    "def ecdf(data):\n",
    "    #Compute ECDF\n",
    "    n = len(data)\n",
    "    x = np.sort(data)\n",
    "    y = np.arange(1, n+1) / n\n",
    "    return x, y\n",
    " \n",
    "# Compute empirical mean and standard deviation\n",
    " \n",
    "# Number of samples\n",
    "n = len(df['Temperature']) \n",
    " \n",
    "# Sample mean\n",
    "mu = np.mean(df['Temperature']) \n",
    " \n",
    "# Sample standard deviation\n",
    "std = np.std(df['Temperature']) \n",
    " \n",
    "print('Mean temperature: ', mu, 'with standard deviation of +/-', std)\n",
    " \n",
    "#Random sampling of the data based off of the mean of the data.\n",
    "normalized_sample = np.random.normal(mu, std, size=10000)\n",
    "x_temperature, y_temperature = ecdf(df['Temperature'])\n",
    "normalized_x, normalized_y = ecdf(normalized_sample)\n",
    " \n",
    "# Plot the ECDFs\n",
    "fig = plt.figure(figsize=(8, 5))\n",
    "plt.plot(normalized_x, normalized_y)\n",
    "plt.plot(x_temperature, y_temperature, marker='.', linestyle='none')\n",
    "plt.ylabel('ECDF')\n",
    "plt.xlabel('Temperature')\n",
    "plt.legend(('Normal Distribution', 'Sample data'))"
   ]
  },
  {
   "cell_type": "markdown",
   "metadata": {},
   "source": [
    "本文使用Python构造经验累积分布函数 (Empirical Cumulative Distribution Function)，验证格利文科定理（Glivenko–Cantelli Theorem）：从总体中抽取容量为n的样本，样本容量n越大，样本的分布越趋近于总体分布。"
   ]
  },
  {
   "cell_type": "code",
   "execution_count": null,
   "metadata": {},
   "outputs": [],
   "source": []
  },
  {
   "cell_type": "markdown",
   "metadata": {},
   "source": [
    "有学者提出98.6是人类的平均体温，我们该这样认为吗？\n",
    "\n",
    "在这里我们选择t检验，因为我们只能计算样本的标准差。"
   ]
  },
  {
   "cell_type": "code",
   "execution_count": 24,
   "metadata": {},
   "outputs": [
    {
     "data": {
      "text/plain": [
       "Ttest_1sampResult(statistic=-5.454823292364077, pvalue=2.410632041561008e-07)"
      ]
     },
     "execution_count": 24,
     "metadata": {},
     "output_type": "execute_result"
    }
   ],
   "source": [
    "from scipy import stats\n",
    " \n",
    "CW_mu = 98.6\n",
    "stats.ttest_1samp(df['Temperature'], CW_mu, axis=0)"
   ]
  },
  {
   "cell_type": "markdown",
   "metadata": {},
   "source": [
    " 男性和女性的体温有明显差异吗？\n",
    "\n",
    "两独立样本t检验 H0: 没有明显差异 H1: 有明显差异\n",
    "\n"
   ]
  },
  {
   "cell_type": "code",
   "execution_count": 25,
   "metadata": {},
   "outputs": [
    {
     "name": "stdout",
     "output_type": "stream",
     "text": [
      "Average female body temperature = 98.39384615384616\n",
      "Average male body temperature = 98.1046153846154\n"
     ]
    },
    {
     "data": {
      "text/plain": [
       "Ttest_indResult(statistic=2.2854345381654984, pvalue=0.02393188312240236)"
      ]
     },
     "execution_count": 25,
     "metadata": {},
     "output_type": "execute_result"
    }
   ],
   "source": [
    "female_temp = df.Temperature[df.Gender == 2]\n",
    "male_temp = df.Temperature[df.Gender == 1]\n",
    "mean_female_temp = np.mean(female_temp)\n",
    "mean_male_temp = np.mean(male_temp)\n",
    "print('Average female body temperature = ' + str(mean_female_temp))\n",
    "print('Average male body temperature = ' + str(mean_male_temp))\n",
    " \n",
    "# Compute independent t-test \n",
    "stats.ttest_ind(female_temp, male_temp, axis=0)"
   ]
  }
 ],
 "metadata": {
  "interpreter": {
   "hash": "c6260718c24c36f2808d656f45d121237624d3562ddba91b09c7600ac3f52d26"
  },
  "kernelspec": {
   "display_name": "Python 3.9.5 ('base')",
   "language": "python",
   "name": "python3"
  },
  "language_info": {
   "codemirror_mode": {
    "name": "ipython",
    "version": 3
   },
   "file_extension": ".py",
   "mimetype": "text/x-python",
   "name": "python",
   "nbconvert_exporter": "python",
   "pygments_lexer": "ipython3",
   "version": "3.9.5"
  },
  "orig_nbformat": 4
 },
 "nbformat": 4,
 "nbformat_minor": 2
}
