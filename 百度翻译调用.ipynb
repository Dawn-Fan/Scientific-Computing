{
 "cells": [
  {
   "cell_type": "code",
   "execution_count": 3,
   "metadata": {},
   "outputs": [],
   "source": [
    "import httpx\n",
    "from random import randint\n",
    "import hashlib\n",
    "import json\n",
    "\n",
    "\n",
    "'''\n",
    "以下打包MD5\n",
    "'''\n",
    "q=\"hello world\" # 输入文本\n",
    "url = \"https://fanyi-api.baidu.com/api/trans/vip/translate\" # 请求url\n",
    "appid = '2020#####'   \n",
    "salt=str(randint(1,100))   #随机码，没啥用\n",
    "key = 'ImNo3mDxa####'   #秘钥\n",
    "\n",
    "\n",
    "'''\n",
    "以下是其余请求参数\n",
    "'''\n",
    "from_language = \"auto\"\n",
    "to_language = \"zh\"\n",
    "\n",
    "'''\n",
    "以下是请求头\n",
    "'''\n",
    "Content_Type = 'application/x-www-form-urlencoded'\n",
    "\n",
    "\n",
    "\n",
    "'''\n",
    "md5 转换\n",
    "'''\n",
    "\n",
    "all_date = appid+q+salt+key\n",
    "sign = hashlib.md5(all_date.encode(encoding='utf-8')).hexdigest()  # 签名，必须的请求参数之一\n"
   ]
  },
  {
   "cell_type": "code",
   "execution_count": 4,
   "metadata": {},
   "outputs": [
    {
     "data": {
      "text/plain": [
       "'你好，世界'"
      ]
     },
     "execution_count": 4,
     "metadata": {},
     "output_type": "execute_result"
    }
   ],
   "source": [
    "# 百度翻译\n",
    "\n",
    "data = {\n",
    "        'appid': appid,\n",
    "        'q': q,\n",
    "        'salt': salt, \n",
    "        'key': key,\n",
    "        'from': from_language,\n",
    "         'to': to_language, \n",
    "         \"sign\": sign\n",
    "         }\n",
    "headers = {'Content-Type': 'application/x-www-form-urlencoded'}\n",
    "r = httpx.post(url=url, data=data, headers=headers)\n",
    "json_date = json.loads(r.text)\n",
    "json_date['trans_result'][0][\"dst\"]\n"
   ]
  }
 ],
 "metadata": {
  "interpreter": {
   "hash": "c6260718c24c36f2808d656f45d121237624d3562ddba91b09c7600ac3f52d26"
  },
  "kernelspec": {
   "display_name": "Python 3.9.5 ('base')",
   "language": "python",
   "name": "python3"
  },
  "language_info": {
   "codemirror_mode": {
    "name": "ipython",
    "version": 3
   },
   "file_extension": ".py",
   "mimetype": "text/x-python",
   "name": "python",
   "nbconvert_exporter": "python",
   "pygments_lexer": "ipython3",
   "version": "3.9.5"
  },
  "orig_nbformat": 4
 },
 "nbformat": 4,
 "nbformat_minor": 2
}
