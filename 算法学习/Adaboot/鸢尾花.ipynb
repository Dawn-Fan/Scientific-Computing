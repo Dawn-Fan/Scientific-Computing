{
 "cells": [
  {
   "cell_type": "code",
   "execution_count": 4,
   "metadata": {},
   "outputs": [],
   "source": [
    "import pandas as pd\n",
    "from sklearn.datasets import load_iris"
   ]
  },
  {
   "cell_type": "code",
   "execution_count": 28,
   "metadata": {},
   "outputs": [],
   "source": [
    "iris = load_iris()\n",
    "iris.keys()\n",
    "data = pd.DataFrame(iris[\"data\"],columns=iris.feature_names)\n",
    "target = pd.DataFrame(iris['target'],columns=[\"target\"])\n",
    "# all_date = pd.concat([data,target],axis=1)\n",
    "# all_date"
   ]
  },
  {
   "cell_type": "code",
   "execution_count": 30,
   "metadata": {},
   "outputs": [],
   "source": [
    "# 划分数据集\n",
    "\n",
    "from sklearn.model_selection import train_test_split\n",
    "X_train,X_test,y_train,y_test = train_test_split(data,target,test_size=0.2,random_state=123)"
   ]
  },
  {
   "cell_type": "code",
   "execution_count": 31,
   "metadata": {},
   "outputs": [
    {
     "data": {
      "text/html": [
       "<div>\n",
       "<style scoped>\n",
       "    .dataframe tbody tr th:only-of-type {\n",
       "        vertical-align: middle;\n",
       "    }\n",
       "\n",
       "    .dataframe tbody tr th {\n",
       "        vertical-align: top;\n",
       "    }\n",
       "\n",
       "    .dataframe thead th {\n",
       "        text-align: right;\n",
       "    }\n",
       "</style>\n",
       "<table border=\"1\" class=\"dataframe\">\n",
       "  <thead>\n",
       "    <tr style=\"text-align: right;\">\n",
       "      <th></th>\n",
       "      <th>sepal length (cm)</th>\n",
       "      <th>sepal width (cm)</th>\n",
       "      <th>petal length (cm)</th>\n",
       "      <th>petal width (cm)</th>\n",
       "    </tr>\n",
       "  </thead>\n",
       "  <tbody>\n",
       "    <tr>\n",
       "      <th>130</th>\n",
       "      <td>7.4</td>\n",
       "      <td>2.8</td>\n",
       "      <td>6.1</td>\n",
       "      <td>1.9</td>\n",
       "    </tr>\n",
       "    <tr>\n",
       "      <th>119</th>\n",
       "      <td>6.0</td>\n",
       "      <td>2.2</td>\n",
       "      <td>5.0</td>\n",
       "      <td>1.5</td>\n",
       "    </tr>\n",
       "    <tr>\n",
       "      <th>29</th>\n",
       "      <td>4.7</td>\n",
       "      <td>3.2</td>\n",
       "      <td>1.6</td>\n",
       "      <td>0.2</td>\n",
       "    </tr>\n",
       "    <tr>\n",
       "      <th>0</th>\n",
       "      <td>5.1</td>\n",
       "      <td>3.5</td>\n",
       "      <td>1.4</td>\n",
       "      <td>0.2</td>\n",
       "    </tr>\n",
       "    <tr>\n",
       "      <th>62</th>\n",
       "      <td>6.0</td>\n",
       "      <td>2.2</td>\n",
       "      <td>4.0</td>\n",
       "      <td>1.0</td>\n",
       "    </tr>\n",
       "    <tr>\n",
       "      <th>...</th>\n",
       "      <td>...</td>\n",
       "      <td>...</td>\n",
       "      <td>...</td>\n",
       "      <td>...</td>\n",
       "    </tr>\n",
       "    <tr>\n",
       "      <th>17</th>\n",
       "      <td>5.1</td>\n",
       "      <td>3.5</td>\n",
       "      <td>1.4</td>\n",
       "      <td>0.3</td>\n",
       "    </tr>\n",
       "    <tr>\n",
       "      <th>98</th>\n",
       "      <td>5.1</td>\n",
       "      <td>2.5</td>\n",
       "      <td>3.0</td>\n",
       "      <td>1.1</td>\n",
       "    </tr>\n",
       "    <tr>\n",
       "      <th>66</th>\n",
       "      <td>5.6</td>\n",
       "      <td>3.0</td>\n",
       "      <td>4.5</td>\n",
       "      <td>1.5</td>\n",
       "    </tr>\n",
       "    <tr>\n",
       "      <th>126</th>\n",
       "      <td>6.2</td>\n",
       "      <td>2.8</td>\n",
       "      <td>4.8</td>\n",
       "      <td>1.8</td>\n",
       "    </tr>\n",
       "    <tr>\n",
       "      <th>109</th>\n",
       "      <td>7.2</td>\n",
       "      <td>3.6</td>\n",
       "      <td>6.1</td>\n",
       "      <td>2.5</td>\n",
       "    </tr>\n",
       "  </tbody>\n",
       "</table>\n",
       "<p>120 rows × 4 columns</p>\n",
       "</div>"
      ],
      "text/plain": [
       "     sepal length (cm)  sepal width (cm)  petal length (cm)  petal width (cm)\n",
       "130                7.4               2.8                6.1               1.9\n",
       "119                6.0               2.2                5.0               1.5\n",
       "29                 4.7               3.2                1.6               0.2\n",
       "0                  5.1               3.5                1.4               0.2\n",
       "62                 6.0               2.2                4.0               1.0\n",
       "..                 ...               ...                ...               ...\n",
       "17                 5.1               3.5                1.4               0.3\n",
       "98                 5.1               2.5                3.0               1.1\n",
       "66                 5.6               3.0                4.5               1.5\n",
       "126                6.2               2.8                4.8               1.8\n",
       "109                7.2               3.6                6.1               2.5\n",
       "\n",
       "[120 rows x 4 columns]"
      ]
     },
     "execution_count": 31,
     "metadata": {},
     "output_type": "execute_result"
    }
   ],
   "source": [
    "X_train"
   ]
  },
  {
   "cell_type": "code",
   "execution_count": 35,
   "metadata": {},
   "outputs": [
    {
     "name": "stderr",
     "output_type": "stream",
     "text": [
      "c:\\Users\\Dawn\\miniconda3\\lib\\site-packages\\sklearn\\utils\\validation.py:993: DataConversionWarning: A column-vector y was passed when a 1d array was expected. Please change the shape of y to (n_samples, ), for example using ravel().\n",
      "  y = column_or_1d(y, warn=True)\n"
     ]
    },
    {
     "data": {
      "text/plain": [
       "AdaBoostClassifier(random_state=123)"
      ]
     },
     "execution_count": 35,
     "metadata": {},
     "output_type": "execute_result"
    }
   ],
   "source": [
    "# Adaboost模型训练\n",
    "from sklearn.ensemble import AdaBoostClassifier\n",
    "model = AdaBoostClassifier(random_state=123)\n",
    "model.fit(X_train, y_train)"
   ]
  },
  {
   "cell_type": "code",
   "execution_count": 36,
   "metadata": {},
   "outputs": [
    {
     "name": "stdout",
     "output_type": "stream",
     "text": [
      "建立的弱分类器： [DecisionTreeClassifier(max_depth=1, random_state=843828734), DecisionTreeClassifier(max_depth=1, random_state=914636141), DecisionTreeClassifier(max_depth=1, random_state=1228959102), DecisionTreeClassifier(max_depth=1, random_state=1840268610), DecisionTreeClassifier(max_depth=1, random_state=974319580), DecisionTreeClassifier(max_depth=1, random_state=819844194), DecisionTreeClassifier(max_depth=1, random_state=220395238), DecisionTreeClassifier(max_depth=1, random_state=941243409), DecisionTreeClassifier(max_depth=1, random_state=942612051), DecisionTreeClassifier(max_depth=1, random_state=2109339754), DecisionTreeClassifier(max_depth=1, random_state=1817228411), DecisionTreeClassifier(max_depth=1, random_state=1202710073), DecisionTreeClassifier(max_depth=1, random_state=2064866518), DecisionTreeClassifier(max_depth=1, random_state=1764906721), DecisionTreeClassifier(max_depth=1, random_state=793837664), DecisionTreeClassifier(max_depth=1, random_state=342284401), DecisionTreeClassifier(max_depth=1, random_state=2065586814), DecisionTreeClassifier(max_depth=1, random_state=601083951), DecisionTreeClassifier(max_depth=1, random_state=1684131913), DecisionTreeClassifier(max_depth=1, random_state=1722357280), DecisionTreeClassifier(max_depth=1, random_state=1473938350), DecisionTreeClassifier(max_depth=1, random_state=546822368), DecisionTreeClassifier(max_depth=1, random_state=983761007), DecisionTreeClassifier(max_depth=1, random_state=1392217497), DecisionTreeClassifier(max_depth=1, random_state=1883653459), DecisionTreeClassifier(max_depth=1, random_state=1051233102), DecisionTreeClassifier(max_depth=1, random_state=256314621), DecisionTreeClassifier(max_depth=1, random_state=836467108), DecisionTreeClassifier(max_depth=1, random_state=1709587040), DecisionTreeClassifier(max_depth=1, random_state=403307728), DecisionTreeClassifier(max_depth=1, random_state=1022182468), DecisionTreeClassifier(max_depth=1, random_state=566042417), DecisionTreeClassifier(max_depth=1, random_state=783796023), DecisionTreeClassifier(max_depth=1, random_state=1890890179), DecisionTreeClassifier(max_depth=1, random_state=753559554), DecisionTreeClassifier(max_depth=1, random_state=359602516), DecisionTreeClassifier(max_depth=1, random_state=135512103), DecisionTreeClassifier(max_depth=1, random_state=911951170), DecisionTreeClassifier(max_depth=1, random_state=136698452), DecisionTreeClassifier(max_depth=1, random_state=1837659695), DecisionTreeClassifier(max_depth=1, random_state=577247736), DecisionTreeClassifier(max_depth=1, random_state=1278957501), DecisionTreeClassifier(max_depth=1, random_state=1500798128), DecisionTreeClassifier(max_depth=1, random_state=2113488007), DecisionTreeClassifier(max_depth=1, random_state=964028265), DecisionTreeClassifier(max_depth=1, random_state=1032065123), DecisionTreeClassifier(max_depth=1, random_state=476842364), DecisionTreeClassifier(max_depth=1, random_state=1536434012), DecisionTreeClassifier(max_depth=1, random_state=955387060), DecisionTreeClassifier(max_depth=1, random_state=1791903078)]\n",
      "分类误差： [0.325      0.05973395 0.33337938 0.0122783  0.33369744 0.00171826\n",
      " 0.33334788 0.00170295 0.33345004 0.00058784 0.33335272 0.00061568\n",
      " 0.33340591 0.00041489 0.33335888 0.00044459 0.33338984 0.00037095\n",
      " 0.33336387 0.00039449 0.33338231 0.00035979 0.33336736 0.00037612\n",
      " 0.33337836 0.0003579  0.33336963 0.00036846 0.33337618 0.00035837\n",
      " 0.33337104 0.00036495 0.33337494 0.0003592  0.33337191 0.00036322\n",
      " 0.33337422 0.00035989 0.33337243 0.00036231 0.3333738  0.00036036\n",
      " 0.33337274 0.00036181 0.33337355 0.00036066 0.33337293 0.00036153\n",
      " 0.33337341 0.00036085]\n",
      "样本权重： [1. 1. 1. 1. 1. 1. 1. 1. 1. 1. 1. 1. 1. 1. 1. 1. 1. 1. 1. 1. 1. 1. 1. 1.\n",
      " 1. 1. 1. 1. 1. 1. 1. 1. 1. 1. 1. 1. 1. 1. 1. 1. 1. 1. 1. 1. 1. 1. 1. 1.\n",
      " 1. 1.]\n",
      "迭代速率： 1.0\n"
     ]
    }
   ],
   "source": [
    "print(\"建立的弱分类器：\",model.estimators_)\n",
    "print(\"分类误差：\",model.estimator_errors_)\n",
    "print(\"样本权重：\",model.estimator_weights_)\n",
    "print(\"迭代速率：\",model.learning_rate)"
   ]
  },
  {
   "cell_type": "code",
   "execution_count": 38,
   "metadata": {},
   "outputs": [
    {
     "name": "stdout",
     "output_type": "stream",
     "text": [
      "\n",
      "---------- 模型评价 ----------\n",
      "ConfusionMatrix\n",
      "     0  1  2\n",
      "0  13  0  0\n",
      "1   0  6  0\n",
      "2   0  3  8\n",
      "Accuracy score: 0.9\n",
      "Recall: 0.9\n",
      "F1-score: 0.9021052631578947\n",
      "Precision score: 0.9333333333333333\n"
     ]
    }
   ],
   "source": [
    "\n",
    "from sklearn.metrics import accuracy_score,recall_score,f1_score,confusion_matrix,precision_score\n",
    "y_pred = model.predict(X_test) # 模型预测\n",
    "\n",
    "print(\"\\n---------- 模型评价 ----------\")\n",
    "cm = confusion_matrix(y_test, y_pred) # 混淆矩阵\n",
    "df_cm = pd.DataFrame(cm)              # 构建DataFrame\n",
    "print(\"ConfusionMatrix\\n\",df_cm)      \n",
    "print('Accuracy score:', accuracy_score(y_test, y_pred))                       # 准确率\n",
    "print('Recall:', recall_score(y_test, y_pred, average='weighted'))             # 召回率\n",
    "print('F1-score:', f1_score(y_test, y_pred, average='weighted'))               # F1分数\n",
    "print('Precision score:', precision_score(y_test, y_pred, average='weighted')) # 精确度\n"
   ]
  },
  {
   "cell_type": "markdown",
   "metadata": {},
   "source": [
    "混淆矩阵可以看出来，分类2有两个分错了，到1里面去了"
   ]
  }
 ],
 "metadata": {
  "interpreter": {
   "hash": "c6260718c24c36f2808d656f45d121237624d3562ddba91b09c7600ac3f52d26"
  },
  "kernelspec": {
   "display_name": "Python 3.9.5 ('base')",
   "language": "python",
   "name": "python3"
  },
  "language_info": {
   "codemirror_mode": {
    "name": "ipython",
    "version": 3
   },
   "file_extension": ".py",
   "mimetype": "text/x-python",
   "name": "python",
   "nbconvert_exporter": "python",
   "pygments_lexer": "ipython3",
   "version": "3.9.5"
  },
  "orig_nbformat": 4
 },
 "nbformat": 4,
 "nbformat_minor": 2
}
